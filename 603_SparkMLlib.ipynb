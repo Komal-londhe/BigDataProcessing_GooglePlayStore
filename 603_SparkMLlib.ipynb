{
  "cells": [
    {
      "cell_type": "markdown",
      "metadata": {
        "id": "view-in-github",
        "colab_type": "text"
      },
      "source": [
        "<a href=\"https://colab.research.google.com/github/Komal-londhe/BigDataProcessing_GooglePlayStore/blob/main/603_SparkMLlib.ipynb\" target=\"_parent\"><img src=\"https://colab.research.google.com/assets/colab-badge.svg\" alt=\"Open In Colab\"/></a>"
      ]
    },
    {
      "cell_type": "markdown",
      "source": [
        "## Machine Learning - SparkMLlib - to Predict the Ratings"
      ],
      "metadata": {
        "application/vnd.databricks.v1+cell": {
          "title": "",
          "showTitle": false,
          "inputWidgets": {},
          "nuid": "77da0ff2-3f46-464e-84a2-484ac23951d9"
        },
        "id": "Flzdst_6W2aL"
      }
    },
    {
      "cell_type": "code",
      "source": [
        "import pyspark\n",
        "from pyspark.sql import SparkSession\n",
        "from pyspark.sql import SQLContext"
      ],
      "metadata": {
        "application/vnd.databricks.v1+cell": {
          "title": "",
          "showTitle": false,
          "inputWidgets": {},
          "nuid": "75c2b9d7-ad16-480e-8356-7f9e5163f643"
        },
        "id": "dBrhqLnbW2aa"
      },
      "outputs": [],
      "execution_count": null
    },
    {
      "cell_type": "code",
      "source": [
        "spark = SparkSession.builder.master(\"local\").appName(\"GooglePlayStoreAnalysis\").getOrCreate()"
      ],
      "metadata": {
        "application/vnd.databricks.v1+cell": {
          "title": "",
          "showTitle": false,
          "inputWidgets": {},
          "nuid": "c246bb7e-4cd4-4f3e-9246-6e1ccf623aae"
        },
        "id": "x5arTBHMW2ae"
      },
      "outputs": [],
      "execution_count": null
    },
    {
      "cell_type": "code",
      "source": [
        "GoogleDf = spark.read.csv(\"/FileStore/tables/GooglePlayStore.csv\", header=\"true\", inferSchema=\"true\")"
      ],
      "metadata": {
        "application/vnd.databricks.v1+cell": {
          "title": "",
          "showTitle": false,
          "inputWidgets": {},
          "nuid": "592178b5-7277-4ab5-a153-a1cef2405c5c"
        },
        "id": "i_gD9nc5W2aj"
      },
      "outputs": [],
      "execution_count": null
    },
    {
      "cell_type": "code",
      "source": [
        "from pyspark.sql.functions import col\n",
        "MLdata = GoogleDf.select('App Name','Rating','Rating Count').where((col(\"Rating\") == 1.0) | (col(\"Rating\") == 2.0) | (col(\"Rating\") == 3.0) | (col(\"Rating\") == 4.0) | (col(\"Rating\") == 5.0))\n",
        "MLdata.show()"
      ],
      "metadata": {
        "application/vnd.databricks.v1+cell": {
          "title": "",
          "showTitle": false,
          "inputWidgets": {},
          "nuid": "6ee4c46e-96cd-4d39-a4a8-5ebc67391f53"
        },
        "id": "1YOtPuCdW2ak",
        "outputId": "669bda52-8772-4c67-fc0d-d40b16b9864c"
      },
      "outputs": [
        {
          "output_type": "display_data",
          "metadata": {
            "application/vnd.databricks.v1+output": {
              "datasetInfos": [],
              "data": "+----------------------------------+------+------------+\n|                          App Name|Rating|Rating Count|\n+----------------------------------+------+------------+\n|               Ampere Battery Info|   4.0|        64.0|\n|              Smart City Trichy...|   5.0|         5.0|\n|              unlimited 4G data...|   4.0|        12.0|\n|              The Everyday Cale...|   2.0|        39.0|\n|              Neon 3d Iron Tech...|   5.0|       820.0|\n|                   Dodge The Cars!|   5.0|        55.0|\n|桃園機場捷運時刻表 - 捷運轉乘路...|   4.0|       118.0|\n|                 Caliway Conductor|   4.0|      1572.0|\n|              Readymade Grocery...|   4.0|        16.0|\n|              OTENTIK Discovery FR|   3.0|         5.0|\n|              All in one shoppi...|   5.0|         6.0|\n|                    REDMOND  Robot|   4.0|       328.0|\n|              Block Fill: Puzzl...|   4.0|       211.0|\n|              Coloring Book Bar...|   4.0|       736.0|\n|              Random Number Gen...|   4.0|        35.0|\n|                       Sticky Ball|   5.0|        11.0|\n|                        Schoolbus*|   4.0|        27.0|\n|                 Cambodian.Express|   3.0|        16.0|\n|                           GaiaZOO|   3.0|        67.0|\n|              Photo Brightness ...|   2.0|        21.0|\n+----------------------------------+------+------------+\nonly showing top 20 rows\n\n",
              "removedWidgets": [],
              "addedWidgets": {},
              "metadata": {},
              "type": "ansi",
              "arguments": {}
            }
          },
          "data": {
            "text/plain": [
              "+----------------------------------+------+------------+\n|                          App Name|Rating|Rating Count|\n+----------------------------------+------+------------+\n|               Ampere Battery Info|   4.0|        64.0|\n|              Smart City Trichy...|   5.0|         5.0|\n|              unlimited 4G data...|   4.0|        12.0|\n|              The Everyday Cale...|   2.0|        39.0|\n|              Neon 3d Iron Tech...|   5.0|       820.0|\n|                   Dodge The Cars!|   5.0|        55.0|\n|桃園機場捷運時刻表 - 捷運轉乘路...|   4.0|       118.0|\n|                 Caliway Conductor|   4.0|      1572.0|\n|              Readymade Grocery...|   4.0|        16.0|\n|              OTENTIK Discovery FR|   3.0|         5.0|\n|              All in one shoppi...|   5.0|         6.0|\n|                    REDMOND  Robot|   4.0|       328.0|\n|              Block Fill: Puzzl...|   4.0|       211.0|\n|              Coloring Book Bar...|   4.0|       736.0|\n|              Random Number Gen...|   4.0|        35.0|\n|                       Sticky Ball|   5.0|        11.0|\n|                        Schoolbus*|   4.0|        27.0|\n|                 Cambodian.Express|   3.0|        16.0|\n|                           GaiaZOO|   3.0|        67.0|\n|              Photo Brightness ...|   2.0|        21.0|\n+----------------------------------+------+------------+\nonly showing top 20 rows\n\n"
            ]
          }
        }
      ],
      "execution_count": null
    },
    {
      "cell_type": "code",
      "source": [
        "# now let's see how many categorical and numerical features we have:\n",
        "\n",
        "cat_cols = [item[0] for item in MLdata.dtypes if item[1].startswith('string')] \n",
        "print(str(len(cat_cols)) + '  categorical features')\n",
        "\n",
        "num_cols = [item[0] for item in MLdata.dtypes if item[1].startswith('int') | item[1].startswith('double')][1:]\n",
        "print(str(len(num_cols)) + '  numerical features')"
      ],
      "metadata": {
        "application/vnd.databricks.v1+cell": {
          "title": "",
          "showTitle": false,
          "inputWidgets": {},
          "nuid": "5379f756-d772-4f0f-887e-413fb3efef8e"
        },
        "id": "BxJ8DEu5W2an",
        "outputId": "06629bd5-d766-410f-979c-e2553ea42b04"
      },
      "outputs": [
        {
          "output_type": "display_data",
          "metadata": {
            "application/vnd.databricks.v1+output": {
              "datasetInfos": [],
              "data": "3  categorical features\n0  numerical features\n",
              "removedWidgets": [],
              "addedWidgets": {},
              "metadata": {},
              "type": "ansi",
              "arguments": {}
            }
          },
          "data": {
            "text/plain": [
              "3  categorical features\n0  numerical features\n"
            ]
          }
        }
      ],
      "execution_count": null
    },
    {
      "cell_type": "code",
      "source": [
        "ML_data = spark.createDataFrame(MLdata.take(1000))\n",
        "ML_data.show()"
      ],
      "metadata": {
        "application/vnd.databricks.v1+cell": {
          "title": "",
          "showTitle": false,
          "inputWidgets": {},
          "nuid": "4c42d523-6045-46a4-8d8c-50ddfbf6368b"
        },
        "id": "BkMPOUcNW2ap",
        "outputId": "89c69a69-b92d-49e0-d968-2b0bdf624d11"
      },
      "outputs": [
        {
          "output_type": "display_data",
          "metadata": {
            "application/vnd.databricks.v1+output": {
              "datasetInfos": [],
              "data": "+----------------------------------+------+------------+\n|                          App Name|Rating|Rating Count|\n+----------------------------------+------+------------+\n|               Ampere Battery Info|   4.0|        64.0|\n|              Smart City Trichy...|   5.0|         5.0|\n|              unlimited 4G data...|   4.0|        12.0|\n|              The Everyday Cale...|   2.0|        39.0|\n|              Neon 3d Iron Tech...|   5.0|       820.0|\n|                   Dodge The Cars!|   5.0|        55.0|\n|桃園機場捷運時刻表 - 捷運轉乘路...|   4.0|       118.0|\n|                 Caliway Conductor|   4.0|      1572.0|\n|              Readymade Grocery...|   4.0|        16.0|\n|              OTENTIK Discovery FR|   3.0|         5.0|\n|              All in one shoppi...|   5.0|         6.0|\n|                    REDMOND  Robot|   4.0|       328.0|\n|              Block Fill: Puzzl...|   4.0|       211.0|\n|              Coloring Book Bar...|   4.0|       736.0|\n|              Random Number Gen...|   4.0|        35.0|\n|                       Sticky Ball|   5.0|        11.0|\n|                        Schoolbus*|   4.0|        27.0|\n|                 Cambodian.Express|   3.0|        16.0|\n|                           GaiaZOO|   3.0|        67.0|\n|              Photo Brightness ...|   2.0|        21.0|\n+----------------------------------+------+------------+\nonly showing top 20 rows\n\n",
              "removedWidgets": [],
              "addedWidgets": {},
              "metadata": {},
              "type": "ansi",
              "arguments": {}
            }
          },
          "data": {
            "text/plain": [
              "+----------------------------------+------+------------+\n|                          App Name|Rating|Rating Count|\n+----------------------------------+------+------------+\n|               Ampere Battery Info|   4.0|        64.0|\n|              Smart City Trichy...|   5.0|         5.0|\n|              unlimited 4G data...|   4.0|        12.0|\n|              The Everyday Cale...|   2.0|        39.0|\n|              Neon 3d Iron Tech...|   5.0|       820.0|\n|                   Dodge The Cars!|   5.0|        55.0|\n|桃園機場捷運時刻表 - 捷運轉乘路...|   4.0|       118.0|\n|                 Caliway Conductor|   4.0|      1572.0|\n|              Readymade Grocery...|   4.0|        16.0|\n|              OTENTIK Discovery FR|   3.0|         5.0|\n|              All in one shoppi...|   5.0|         6.0|\n|                    REDMOND  Robot|   4.0|       328.0|\n|              Block Fill: Puzzl...|   4.0|       211.0|\n|              Coloring Book Bar...|   4.0|       736.0|\n|              Random Number Gen...|   4.0|        35.0|\n|                       Sticky Ball|   5.0|        11.0|\n|                        Schoolbus*|   4.0|        27.0|\n|                 Cambodian.Express|   3.0|        16.0|\n|                           GaiaZOO|   3.0|        67.0|\n|              Photo Brightness ...|   2.0|        21.0|\n+----------------------------------+------+------------+\nonly showing top 20 rows\n\n"
            ]
          }
        }
      ],
      "execution_count": null
    },
    {
      "cell_type": "code",
      "source": [
        "ML_data.count()"
      ],
      "metadata": {
        "application/vnd.databricks.v1+cell": {
          "title": "",
          "showTitle": false,
          "inputWidgets": {},
          "nuid": "09ad7ce4-d311-4928-8ec2-6abda3040edb"
        },
        "id": "QHMQ-FjYW2as",
        "outputId": "44b09d65-3106-468d-d207-22bf8a050033"
      },
      "outputs": [
        {
          "output_type": "display_data",
          "metadata": {
            "application/vnd.databricks.v1+output": {
              "datasetInfos": [],
              "data": "Out[7]: 1000",
              "removedWidgets": [],
              "addedWidgets": {},
              "metadata": {},
              "type": "ansi",
              "arguments": {}
            }
          },
          "data": {
            "text/plain": [
              "Out[7]: 1000"
            ]
          }
        }
      ],
      "execution_count": null
    },
    {
      "cell_type": "code",
      "source": [
        "from pyspark.ml.feature import OneHotEncoder, StringIndexer, VectorAssembler\n",
        "categoricalColumns = ['App Name', 'Rating', 'Rating Count']\n",
        "stages = []\n",
        "for categoricalCol in categoricalColumns:\n",
        "    stringIndexer = StringIndexer(inputCol = categoricalCol, outputCol = categoricalCol + 'Index')\n",
        "    encoder = OneHotEncoder(inputCols=[stringIndexer.getOutputCol()], outputCols=[categoricalCol + \"classVec\"])\n",
        "    stages += [stringIndexer, encoder]\n",
        "label_stringIdx = StringIndexer(inputCol = 'Rating', outputCol = 'label')\n",
        "stages += [label_stringIdx]\n",
        "assemblerInputs = [c + \"classVec\" for c in categoricalColumns]\n",
        "assembler = VectorAssembler(inputCols=assemblerInputs, outputCol=\"features\")\n",
        "stages += [assembler]"
      ],
      "metadata": {
        "application/vnd.databricks.v1+cell": {
          "title": "",
          "showTitle": false,
          "inputWidgets": {},
          "nuid": "51e4e9c8-b4e4-4af6-958c-b82bd672853e"
        },
        "id": "yNjhcZFuW2at"
      },
      "outputs": [],
      "execution_count": null
    },
    {
      "cell_type": "code",
      "source": [
        "# we use a pipeline to apply all the stages of tranformation to the data\n",
        "from pyspark.ml import Pipeline\n",
        "pipeline = Pipeline(stages = stages)\n",
        "cols = ML_data.columns\n",
        "pipelineModel = pipeline.fit(ML_data)\n",
        "df = pipelineModel.transform(ML_data)\n",
        "selectedCols = ['label', 'features'] + cols\n",
        "df = df.select(selectedCols)\n",
        "df.printSchema()"
      ],
      "metadata": {
        "application/vnd.databricks.v1+cell": {
          "title": "",
          "showTitle": false,
          "inputWidgets": {},
          "nuid": "5b43523b-afff-49eb-ae40-8a5aeb5d49af"
        },
        "id": "0-SHw2nfW2av",
        "outputId": "4c5c1d75-5ab6-4eef-bfe6-99da725a487e"
      },
      "outputs": [
        {
          "output_type": "display_data",
          "metadata": {
            "application/vnd.databricks.v1+output": {
              "datasetInfos": [],
              "data": "root\n |-- label: double (nullable = false)\n |-- features: vector (nullable = true)\n |-- App Name: string (nullable = true)\n |-- Rating: string (nullable = true)\n |-- Rating Count: string (nullable = true)\n\n",
              "removedWidgets": [],
              "addedWidgets": {},
              "metadata": {},
              "type": "ansi",
              "arguments": {}
            }
          },
          "data": {
            "text/plain": [
              "root\n |-- label: double (nullable = false)\n |-- features: vector (nullable = true)\n |-- App Name: string (nullable = true)\n |-- Rating: string (nullable = true)\n |-- Rating Count: string (nullable = true)\n\n"
            ]
          }
        }
      ],
      "execution_count": null
    },
    {
      "cell_type": "code",
      "source": [
        "train, test = df.randomSplit([0.8, 0.2], seed = 2018)\n",
        "print(\"Training Dataset Count: \" + str(train.count()))\n",
        "print(\"Test Dataset Count: \" + str(test.count()))"
      ],
      "metadata": {
        "application/vnd.databricks.v1+cell": {
          "title": "",
          "showTitle": false,
          "inputWidgets": {},
          "nuid": "33089210-3935-4a1c-b679-595cdb26bbc7"
        },
        "id": "ZPeDW0irW2aw",
        "outputId": "3bbca617-9989-4c86-8342-ddc163efbb0d"
      },
      "outputs": [
        {
          "output_type": "display_data",
          "metadata": {
            "application/vnd.databricks.v1+output": {
              "datasetInfos": [],
              "data": "Training Dataset Count: 795\nTest Dataset Count: 205\n",
              "removedWidgets": [],
              "addedWidgets": {},
              "metadata": {},
              "type": "ansi",
              "arguments": {}
            }
          },
          "data": {
            "text/plain": [
              "Training Dataset Count: 795\nTest Dataset Count: 205\n"
            ]
          }
        }
      ],
      "execution_count": null
    },
    {
      "cell_type": "markdown",
      "source": [
        "#### Logistic Regression Model"
      ],
      "metadata": {
        "application/vnd.databricks.v1+cell": {
          "title": "",
          "showTitle": false,
          "inputWidgets": {},
          "nuid": "2de044c8-f967-45be-ab58-07b6931dfd96"
        },
        "id": "HKZ31lfPW2ax"
      }
    },
    {
      "cell_type": "code",
      "source": [
        "from pyspark.ml.classification import LogisticRegression\n",
        "lr = LogisticRegression(featuresCol = 'features', labelCol = 'label', maxIter=10)\n",
        "lrModel = lr.fit(train)"
      ],
      "metadata": {
        "application/vnd.databricks.v1+cell": {
          "title": "",
          "showTitle": false,
          "inputWidgets": {},
          "nuid": "077bbe10-352e-4e7e-a3ee-09ce8bc55b89"
        },
        "id": "Lg65v0NeW2ax"
      },
      "outputs": [],
      "execution_count": null
    },
    {
      "cell_type": "code",
      "source": [
        "# Print the coefficients and intercept for multinomial logistic regression\n",
        "print(\"Coefficients: \\n\" + str(lrModel.coefficientMatrix))\n",
        "print(\"Intercept: \" + str(lrModel.interceptVector))\n",
        "\n",
        "trainingSummary = lrModel.summary"
      ],
      "metadata": {
        "application/vnd.databricks.v1+cell": {
          "title": "",
          "showTitle": false,
          "inputWidgets": {},
          "nuid": "f9ccfc6d-212f-4074-a8e2-d59bb8dc82d0"
        },
        "id": "eKIF6KBuW2ay",
        "outputId": "c9b05d8b-1b41-47d6-cccf-c655b5e0da9f"
      },
      "outputs": [
        {
          "output_type": "display_data",
          "metadata": {
            "application/vnd.databricks.v1+output": {
              "datasetInfos": [],
              "data": "Coefficients: \nDenseMatrix([[-3.39399601e+00, -1.45999284e+00, -2.05061523e+00, ...,\n               0.00000000e+00, -1.45999284e+00,  0.00000000e+00],\n             [-3.14239581e+00, -7.54010799e-01, -1.19111310e+00, ...,\n               0.00000000e+00, -7.54010799e-01,  0.00000000e+00],\n             [-1.68350096e+00,  2.20517428e+00,  3.38771868e+00, ...,\n               0.00000000e+00,  2.20517428e+00,  0.00000000e+00],\n             [-9.65041885e-01,  2.67073459e-03, -1.22021716e-01, ...,\n               0.00000000e+00,  2.67073459e-03,  0.00000000e+00],\n             [ 9.18493466e+00,  6.15861883e-03, -2.39686345e-02, ...,\n               0.00000000e+00,  6.15861883e-03,  0.00000000e+00]])\nIntercept: [2.474377519199906,1.6271717600640112,0.11666501595924342,-1.2009555736635669,-3.0172587215595934]\n",
              "removedWidgets": [],
              "addedWidgets": {},
              "metadata": {},
              "type": "ansi",
              "arguments": {}
            }
          },
          "data": {
            "text/plain": [
              "Coefficients: \nDenseMatrix([[-3.39399601e+00, -1.45999284e+00, -2.05061523e+00, ...,\n               0.00000000e+00, -1.45999284e+00,  0.00000000e+00],\n             [-3.14239581e+00, -7.54010799e-01, -1.19111310e+00, ...,\n               0.00000000e+00, -7.54010799e-01,  0.00000000e+00],\n             [-1.68350096e+00,  2.20517428e+00,  3.38771868e+00, ...,\n               0.00000000e+00,  2.20517428e+00,  0.00000000e+00],\n             [-9.65041885e-01,  2.67073459e-03, -1.22021716e-01, ...,\n               0.00000000e+00,  2.67073459e-03,  0.00000000e+00],\n             [ 9.18493466e+00,  6.15861883e-03, -2.39686345e-02, ...,\n               0.00000000e+00,  6.15861883e-03,  0.00000000e+00]])\nIntercept: [2.474377519199906,1.6271717600640112,0.11666501595924342,-1.2009555736635669,-3.0172587215595934]\n"
            ]
          }
        }
      ],
      "execution_count": null
    },
    {
      "cell_type": "code",
      "source": [
        "predictions = lrModel.transform(test)\n",
        "predictions.select('App Name', 'Rating', 'label','prediction', 'probability').show(10)"
      ],
      "metadata": {
        "application/vnd.databricks.v1+cell": {
          "title": "",
          "showTitle": false,
          "inputWidgets": {},
          "nuid": "a86191f1-60fe-43d8-a4fa-9470656a23ca"
        },
        "id": "fDWRbCvmW2az",
        "outputId": "d97f3f27-55fc-42ee-a2ca-06fc28fa1a6a"
      },
      "outputs": [
        {
          "output_type": "display_data",
          "metadata": {
            "application/vnd.databricks.v1+output": {
              "datasetInfos": [],
              "data": "+--------------------+------+-----+----------+--------------------+\n|            App Name|Rating|label|prediction|         probability|\n+--------------------+------+-----+----------+--------------------+\n|ACE Auto Club Europa|   4.0|  0.0|       0.0|[0.99515773994608...|\n|Cute Theme Fluffy...|   4.0|  0.0|       0.0|[0.99515773994608...|\n|Female Red Jungle...|   4.0|  0.0|       0.0|[0.99342216569064...|\n|   Festival Art Rock|   4.0|  0.0|       0.0|[0.97804265777917...|\n|       GPS Installer|   4.0|  0.0|       0.0|[0.99552908225739...|\n|Internet Blocker:...|   4.0|  0.0|       0.0|[0.94949051321979...|\n|       Mirror Mirror|   4.0|  0.0|       0.0|[0.99530734432755...|\n|Peribahasa Bahasa...|   4.0|  0.0|       0.0|[0.99711665264411...|\n|       Photo Collage|   4.0|  0.0|       0.0|[0.99515773994608...|\n|   Pocket Bowling 3D|   4.0|  0.0|       0.0|[0.99515773994608...|\n+--------------------+------+-----+----------+--------------------+\nonly showing top 10 rows\n\n",
              "removedWidgets": [],
              "addedWidgets": {},
              "metadata": {},
              "type": "ansi",
              "arguments": {}
            }
          },
          "data": {
            "text/plain": [
              "+--------------------+------+-----+----------+--------------------+\n|            App Name|Rating|label|prediction|         probability|\n+--------------------+------+-----+----------+--------------------+\n|ACE Auto Club Europa|   4.0|  0.0|       0.0|[0.99515773994608...|\n|Cute Theme Fluffy...|   4.0|  0.0|       0.0|[0.99515773994608...|\n|Female Red Jungle...|   4.0|  0.0|       0.0|[0.99342216569064...|\n|   Festival Art Rock|   4.0|  0.0|       0.0|[0.97804265777917...|\n|       GPS Installer|   4.0|  0.0|       0.0|[0.99552908225739...|\n|Internet Blocker:...|   4.0|  0.0|       0.0|[0.94949051321979...|\n|       Mirror Mirror|   4.0|  0.0|       0.0|[0.99530734432755...|\n|Peribahasa Bahasa...|   4.0|  0.0|       0.0|[0.99711665264411...|\n|       Photo Collage|   4.0|  0.0|       0.0|[0.99515773994608...|\n|   Pocket Bowling 3D|   4.0|  0.0|       0.0|[0.99515773994608...|\n+--------------------+------+-----+----------+--------------------+\nonly showing top 10 rows\n\n"
            ]
          }
        }
      ],
      "execution_count": null
    },
    {
      "cell_type": "code",
      "source": [
        "predictions.show()"
      ],
      "metadata": {
        "application/vnd.databricks.v1+cell": {
          "title": "",
          "showTitle": false,
          "inputWidgets": {},
          "nuid": "248c5e76-49c6-4317-a7e0-e112b615dd33"
        },
        "id": "fsk7gGvMW2a0",
        "outputId": "0ade543f-ded6-432a-9100-f9a8aa50cc35"
      },
      "outputs": [
        {
          "output_type": "display_data",
          "metadata": {
            "application/vnd.databricks.v1+output": {
              "datasetInfos": [],
              "data": "+-----+--------------------+--------------------+------+------------+--------------------+--------------------+----------+\n|label|            features|            App Name|Rating|Rating Count|       rawPrediction|         probability|prediction|\n+-----+--------------------+--------------------+------+------------+--------------------+--------------------+----------+\n|  0.0|(1360,[14,999,117...|ACE Auto Club Europa|   4.0|      1592.0|[5.68682413714466...|[0.99515773994608...|       0.0|\n|  0.0|(1360,[178,999,13...|Cute Theme Fluffy...|   4.0|       473.0|[5.68682413714466...|[0.99515773994608...|       0.0|\n|  0.0|(1360,[263,999,10...|Female Red Jungle...|   4.0|        36.0|[5.61654699694366...|[0.99342216569064...|       0.0|\n|  0.0|(1360,[264,999,10...|   Festival Art Rock|   4.0|        35.0|[4.73457426517428...|[0.97804265777917...|       0.0|\n|  0.0|(1360,[298,999,10...|       GPS Installer|   4.0|         8.0|[5.77672638528512...|[0.99552908225739...|       0.0|\n|  0.0|(1360,[367,999,11...|Internet Blocker:...|   4.0|        74.0|[4.32530932503385...|[0.94949051321979...|       0.0|\n|  0.0|(1360,[485,999,10...|       Mirror Mirror|   4.0|         6.0|[5.70000889563940...|[0.99530734432755...|       0.0|\n|  0.0|(1360,[565,999,10...|Peribahasa Bahasa...|   4.0|        13.0|[6.01769061259043...|[0.99711665264411...|       0.0|\n|  0.0|(1360,[574,999,11...|       Photo Collage|   4.0|      1093.0|[5.68682413714466...|[0.99515773994608...|       0.0|\n|  0.0|(1360,[590,999,13...|   Pocket Bowling 3D|   4.0|       576.0|[5.68682413714466...|[0.99515773994608...|       0.0|\n|  0.0|(1360,[605,999,10...|Psychrometry Calc...|   4.0|        20.0|[5.62479412634312...|[0.99453756338814...|       0.0|\n|  0.0|(1360,[641,999,10...|Readymade Grocery...|   4.0|        16.0|[5.32833061257377...|[0.99078622530161...|       0.0|\n|  0.0|(1360,[697,999,10...|  Serbia Audio Guide|   4.0|       143.0|[6.66980991348273...|[0.99875453093110...|       0.0|\n|  0.0|(1360,[976,999,10...|    วัสดุสัมผัสอาหาร|   4.0|         8.0|[5.77672638528512...|[0.99552908225739...|       0.0|\n|  1.0|(1360,[77,1000,10...|Bet Tips Score Match|   5.0|        20.0|[-0.0080620895996...|[0.00750374513179...|       1.0|\n|  1.0|(1360,[132,1000,1...|          Celebriffy|   5.0|        11.0|[0.28814707165310...|[0.00795135301426...|       1.0|\n|  1.0|(1360,[155,1000,1...|         Coffin Move|   5.0|         8.0|[0.14387016934231...|[0.01280011129887...|       1.0|\n|  1.0|(1360,[260,1000,1...|        FashionValet|   5.0|      2199.0|[1.03695369753992...|[0.03939015029850...|       1.0|\n|  1.0|(1360,[389,1000,1...|KNOWLEDGE FLOW CL...|   5.0|         8.0|[0.14387016934231...|[0.01280011129887...|       1.0|\n|  1.0|(1360,[426,1000,1...|Let's Fact? Let's...|   5.0|         5.0|[-0.5768777345535...|[0.00307876862346...|       1.0|\n+-----+--------------------+--------------------+------+------------+--------------------+--------------------+----------+\nonly showing top 20 rows\n\n",
              "removedWidgets": [],
              "addedWidgets": {},
              "metadata": {},
              "type": "ansi",
              "arguments": {}
            }
          },
          "data": {
            "text/plain": [
              "+-----+--------------------+--------------------+------+------------+--------------------+--------------------+----------+\n|label|            features|            App Name|Rating|Rating Count|       rawPrediction|         probability|prediction|\n+-----+--------------------+--------------------+------+------------+--------------------+--------------------+----------+\n|  0.0|(1360,[14,999,117...|ACE Auto Club Europa|   4.0|      1592.0|[5.68682413714466...|[0.99515773994608...|       0.0|\n|  0.0|(1360,[178,999,13...|Cute Theme Fluffy...|   4.0|       473.0|[5.68682413714466...|[0.99515773994608...|       0.0|\n|  0.0|(1360,[263,999,10...|Female Red Jungle...|   4.0|        36.0|[5.61654699694366...|[0.99342216569064...|       0.0|\n|  0.0|(1360,[264,999,10...|   Festival Art Rock|   4.0|        35.0|[4.73457426517428...|[0.97804265777917...|       0.0|\n|  0.0|(1360,[298,999,10...|       GPS Installer|   4.0|         8.0|[5.77672638528512...|[0.99552908225739...|       0.0|\n|  0.0|(1360,[367,999,11...|Internet Blocker:...|   4.0|        74.0|[4.32530932503385...|[0.94949051321979...|       0.0|\n|  0.0|(1360,[485,999,10...|       Mirror Mirror|   4.0|         6.0|[5.70000889563940...|[0.99530734432755...|       0.0|\n|  0.0|(1360,[565,999,10...|Peribahasa Bahasa...|   4.0|        13.0|[6.01769061259043...|[0.99711665264411...|       0.0|\n|  0.0|(1360,[574,999,11...|       Photo Collage|   4.0|      1093.0|[5.68682413714466...|[0.99515773994608...|       0.0|\n|  0.0|(1360,[590,999,13...|   Pocket Bowling 3D|   4.0|       576.0|[5.68682413714466...|[0.99515773994608...|       0.0|\n|  0.0|(1360,[605,999,10...|Psychrometry Calc...|   4.0|        20.0|[5.62479412634312...|[0.99453756338814...|       0.0|\n|  0.0|(1360,[641,999,10...|Readymade Grocery...|   4.0|        16.0|[5.32833061257377...|[0.99078622530161...|       0.0|\n|  0.0|(1360,[697,999,10...|  Serbia Audio Guide|   4.0|       143.0|[6.66980991348273...|[0.99875453093110...|       0.0|\n|  0.0|(1360,[976,999,10...|    วัสดุสัมผัสอาหาร|   4.0|         8.0|[5.77672638528512...|[0.99552908225739...|       0.0|\n|  1.0|(1360,[77,1000,10...|Bet Tips Score Match|   5.0|        20.0|[-0.0080620895996...|[0.00750374513179...|       1.0|\n|  1.0|(1360,[132,1000,1...|          Celebriffy|   5.0|        11.0|[0.28814707165310...|[0.00795135301426...|       1.0|\n|  1.0|(1360,[155,1000,1...|         Coffin Move|   5.0|         8.0|[0.14387016934231...|[0.01280011129887...|       1.0|\n|  1.0|(1360,[260,1000,1...|        FashionValet|   5.0|      2199.0|[1.03695369753992...|[0.03939015029850...|       1.0|\n|  1.0|(1360,[389,1000,1...|KNOWLEDGE FLOW CL...|   5.0|         8.0|[0.14387016934231...|[0.01280011129887...|       1.0|\n|  1.0|(1360,[426,1000,1...|Let's Fact? Let's...|   5.0|         5.0|[-0.5768777345535...|[0.00307876862346...|       1.0|\n+-----+--------------------+--------------------+------+------------+--------------------+--------------------+----------+\nonly showing top 20 rows\n\n"
            ]
          }
        }
      ],
      "execution_count": null
    },
    {
      "cell_type": "code",
      "source": [
        "from pyspark.ml.evaluation import MulticlassClassificationEvaluator\n",
        "# Select (prediction, true label) and compute test error\n",
        "evaluator = MulticlassClassificationEvaluator(\n",
        "    labelCol=\"label\", predictionCol=\"prediction\", metricName=\"accuracy\")\n",
        "accuracy = evaluator.evaluate(predictions)\n",
        "print(\"Test Error = %g \" % (1.0 - accuracy))\n"
      ],
      "metadata": {
        "application/vnd.databricks.v1+cell": {
          "title": "",
          "showTitle": false,
          "inputWidgets": {},
          "nuid": "86519f0c-f8a6-48c8-be44-baf1afde86c8"
        },
        "id": "n73fOfarW2a0",
        "outputId": "f753025a-f766-41ce-f10a-c26d84a1c410"
      },
      "outputs": [
        {
          "output_type": "display_data",
          "metadata": {
            "application/vnd.databricks.v1+output": {
              "datasetInfos": [],
              "data": "Test Error = 0.00487805 \n",
              "removedWidgets": [],
              "addedWidgets": {},
              "metadata": {},
              "type": "ansi",
              "arguments": {}
            }
          },
          "data": {
            "text/plain": [
              "Test Error = 0.00487805 \n"
            ]
          }
        }
      ],
      "execution_count": null
    }
  ],
  "metadata": {
    "application/vnd.databricks.v1+notebook": {
      "notebookName": "603_SparkMLlib",
      "dashboards": [],
      "notebookMetadata": {
        "pythonIndentUnit": 4
      },
      "language": "python",
      "widgets": {},
      "notebookOrigID": 1068475865949475
    },
    "colab": {
      "name": "603_SparkMLlib.ipynb",
      "provenance": [],
      "include_colab_link": true
    }
  },
  "nbformat": 4,
  "nbformat_minor": 0
}